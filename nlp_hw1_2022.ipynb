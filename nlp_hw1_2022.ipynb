{
  "cells": [
    {
      "cell_type": "markdown",
      "source": [
        "Support code if promblems occour"
      ],
      "metadata": {
        "id": "GBLFPnD32VIV"
      }
    },
    {
      "cell_type": "code",
      "execution_count": null,
      "metadata": {
        "id": "9XsyDUqFJMZN"
      },
      "outputs": [],
      "source": [
        "#TO EXECUTE ONLY IF IT IS NO POSSIBLE READ FROM VOCABULARY STORED ON THE DRIVE\n",
        "voc = vocabulary(pth_glove)\n",
        "torch.save(voc, pth_voc)"
      ]
    },
    {
      "cell_type": "code",
      "execution_count": null,
      "metadata": {
        "id": "X0hugKCU1kUg"
      },
      "outputs": [],
      "source": [
        "#TO EXECUTE ONLY IF IT IS NO POSSIBLE READ FROM DICTIONARY STORED ON THE DRIVE\n",
        "classes_dict_inv = invert_dictionary(classes_dict)\n",
        "with open(pth_dict, 'w') as file_dict:\n",
        "  file_dict.write(json.dumps(classes_dict_inv))"
      ]
    },
    {
      "cell_type": "markdown",
      "metadata": {
        "id": "FVluJLZizweP"
      },
      "source": [
        "#Homework"
      ]
    },
    {
      "cell_type": "markdown",
      "source": [
        "#First Model: BiLSTN + Classifier"
      ],
      "metadata": {
        "id": "JrEqKJuZ19rP"
      }
    },
    {
      "cell_type": "markdown",
      "metadata": {
        "id": "esN7QGlAzqxA"
      },
      "source": [
        "##Libraries and functions"
      ]
    },
    {
      "cell_type": "code",
      "execution_count": null,
      "metadata": {
        "colab": {
          "base_uri": "https://localhost:8080/"
        },
        "id": "zUy8b9Ts7zqU",
        "outputId": "84a3e225-3886-477b-bd9d-add0e0a8b063"
      },
      "outputs": [
        {
          "output_type": "stream",
          "name": "stdout",
          "text": [
            "Collecting seqeval\n",
            "  Downloading seqeval-1.2.2.tar.gz (43 kB)\n",
            "\u001b[?25l\r\u001b[K     |███████▌                        | 10 kB 23.1 MB/s eta 0:00:01\r\u001b[K     |███████████████                 | 20 kB 29.2 MB/s eta 0:00:01\r\u001b[K     |██████████████████████▌         | 30 kB 30.9 MB/s eta 0:00:01\r\u001b[K     |██████████████████████████████  | 40 kB 15.5 MB/s eta 0:00:01\r\u001b[K     |████████████████████████████████| 43 kB 1.7 MB/s \n",
            "\u001b[?25hRequirement already satisfied: numpy>=1.14.0 in /usr/local/lib/python3.7/dist-packages (from seqeval) (1.21.6)\n",
            "Requirement already satisfied: scikit-learn>=0.21.3 in /usr/local/lib/python3.7/dist-packages (from seqeval) (1.0.2)\n",
            "Requirement already satisfied: scipy>=1.1.0 in /usr/local/lib/python3.7/dist-packages (from scikit-learn>=0.21.3->seqeval) (1.4.1)\n",
            "Requirement already satisfied: joblib>=0.11 in /usr/local/lib/python3.7/dist-packages (from scikit-learn>=0.21.3->seqeval) (1.1.0)\n",
            "Requirement already satisfied: threadpoolctl>=2.0.0 in /usr/local/lib/python3.7/dist-packages (from scikit-learn>=0.21.3->seqeval) (3.1.0)\n",
            "Building wheels for collected packages: seqeval\n",
            "  Building wheel for seqeval (setup.py) ... \u001b[?25l\u001b[?25hdone\n",
            "  Created wheel for seqeval: filename=seqeval-1.2.2-py3-none-any.whl size=16180 sha256=fc897dfd0f78f7f88a51dbc699f84b8b59f47f17df3726613208fc9622df569a\n",
            "  Stored in directory: /root/.cache/pip/wheels/05/96/ee/7cac4e74f3b19e3158dce26a20a1c86b3533c43ec72a549fd7\n",
            "Successfully built seqeval\n",
            "Installing collected packages: seqeval\n",
            "Successfully installed seqeval-1.2.2\n"
          ]
        }
      ],
      "source": [
        "pip install seqeval"
      ]
    },
    {
      "cell_type": "code",
      "execution_count": null,
      "metadata": {
        "id": "-PMabD-o_2OU"
      },
      "outputs": [],
      "source": [
        "#import libraries\n",
        "\n",
        "import csv\n",
        "import torch\n",
        "import torch.nn as nn\n",
        "import torch.nn.functional as F\n",
        "import numpy as np\n",
        "from torch import nn\n",
        "from torch.utils.data import Dataset, DataLoader\n",
        "from torch.optim import SGD, Adam\n",
        "from typing import *\n",
        "import string\n",
        "from torch.utils.data import Dataset, DataLoader\n",
        "from sklearn.model_selection import train_test_split\n",
        "from sklearn.metrics import classification_report, confusion_matrix\n",
        "from seqeval.metrics import classification_report as seqeval_classification\n",
        "from seqeval.metrics import f1_score as seqeval_f1_score\n",
        "import matplotlib.pyplot as plt\n",
        "import json"
      ]
    },
    {
      "cell_type": "code",
      "execution_count": null,
      "metadata": {
        "id": "_Kl2HZOEDvmI"
      },
      "outputs": [],
      "source": [
        "pth_train = \"/content/drive/MyDrive/data/train.tsv\"\n",
        "pth_dev = \"/content/drive/MyDrive/data/dev.tsv\"\n",
        "pth_glove = \"/content/drive/MyDrive/Copia di glove.6B.300d.txt\"\n",
        "pth_voc = \"/content/drive/MyDrive/vocabulary.txt\"\n",
        "pth_dict = \"/content/drive/MyDrive/dict.json\""
      ]
    },
    {
      "cell_type": "code",
      "execution_count": null,
      "metadata": {
        "id": "KKZlduXUbX5k"
      },
      "outputs": [],
      "source": [
        "UNK = \"unk\"\n",
        "PAD = \"pad\""
      ]
    },
    {
      "cell_type": "code",
      "execution_count": null,
      "metadata": {
        "id": "-nKMb7cII-6g"
      },
      "outputs": [],
      "source": [
        "#create a vocabulary that link each word to a set of tensor, using a pre-trained word embedding\n",
        "\n",
        "def vocabulary(pth, PAD = \"pad\", UNK = \"unk\"):\n",
        "\n",
        "  #read pre-trained glove model\n",
        "  with open(pth) as f:\n",
        "    glove = f.readlines()\n",
        "  glove = [i.split(maxsplit = 1) for i in glove]\n",
        "\n",
        "  #create a vocabulary from previous pre-trained model\n",
        "  vocabulary = {}\n",
        "  tensor = torch.tensor\n",
        "  for w, vec in glove:\n",
        "    vec = vec[:-2] #cut '\\n'\n",
        "    vec2 = vec.split()\n",
        "    #i = 0\n",
        "    #vec3 = [len(vec2)]\n",
        "    vec3 = [np.float64(vec2[i]) for i in range(len(vec2))]\n",
        "    tensor = torch.tensor(vec3)\n",
        "    vocabulary.update({w:tensor})\n",
        "\n",
        "  vocabulary.update({UNK:torch.ones(300)})\n",
        "  vocabulary.update({PAD:torch.zeros(300)})\n",
        "\n",
        "  return vocabulary"
      ]
    },
    {
      "cell_type": "code",
      "execution_count": null,
      "metadata": {
        "id": "X9nK3SfSAkuU"
      },
      "outputs": [],
      "source": [
        "def read_data(pth, PAD = \"pad\"):\n",
        "\n",
        "  data = []\n",
        "  labels = []\n",
        "  original_labels = []\n",
        "  original_data = []\n",
        "  ids = []\n",
        "\n",
        "  with open(pth) as file:\n",
        "\n",
        "    tsv_file = csv.reader(file, delimiter=\"\\t\")\n",
        "\n",
        "    #Loop to read data from files\n",
        "    for line in tsv_file:\n",
        "\n",
        "      if len(line)==0:\n",
        "        data.append(word)\n",
        "        original_data.append(data_or)\n",
        "        labels.append(label)\n",
        "        original_labels.append(label_or)\n",
        "\n",
        "      elif line[0]==\"#\":\n",
        "        ids.append(line[2])\n",
        "        word = []\n",
        "        label = []\n",
        "        label_or = []\n",
        "        data_or = []\n",
        "\n",
        "      else:\n",
        "        word.append(line[0])\n",
        "        data_or.append(line[0])\n",
        "        label.append(line[1])\n",
        "        label_or.append(line[1])\n",
        "\n",
        "\n",
        "    assert len(data) == len(labels)\n",
        "\n",
        "    max_len = max(compute_lengths(data))\n",
        "    \n",
        "    for i in range(len(data)):\n",
        "      while len(data[i])<max_len:\n",
        "        data[i].append(PAD)\n",
        "        labels[i].append(PAD)\n",
        "\n",
        "    '''\n",
        "    Retrun: 1.data with padding\n",
        "            2.labels with padding\n",
        "            3.data withouth padding\n",
        "            4.labels withouth padding'''\n",
        "    return data, labels, original_data, original_labels"
      ]
    },
    {
      "cell_type": "code",
      "execution_count": null,
      "metadata": {
        "id": "Zc5uLQKMBdtd"
      },
      "outputs": [],
      "source": [
        "#compute leghts of different lists\n",
        "#Return a list of lenghts\n",
        "def compute_lengths(data):\n",
        "    lenghts = []\n",
        "    for x in data:\n",
        "      lenghts.append(len(x))\n",
        "    return lenghts"
      ]
    },
    {
      "cell_type": "code",
      "execution_count": null,
      "metadata": {
        "id": "SmeO0SHKJqkj"
      },
      "outputs": [],
      "source": [
        "#transformation of words in tensors using previos vocabulary\n",
        "def VecFromWord(voc: dict, text: list):\n",
        "\n",
        "  new_vecs = []\n",
        "\n",
        "  for t in text:\n",
        "\n",
        "    #associate each word in every text to a tensor, using the vocabulary(pre-trained word-embedding)\n",
        "    vecs = transform(voc, t)\n",
        "\n",
        "    # form: [[tensor1_1,....,tensor1_N],...,[tensorM_1,.....,tensorM_N]]\n",
        "    new_vecs.append(vecs)\n",
        "\n",
        "  print(\"Found \"+str(len(new_vecs))+\" samples.\")\n",
        "\n",
        "  return torch.stack(new_vecs)\n",
        "\n",
        "#function for effective transormation\n",
        "def transform(v: dict, l: list):\n",
        "\n",
        "  vec = []\n",
        "\n",
        "  for word in l:\n",
        "    word = word.lower()\n",
        "    if word in v.keys():\n",
        "      vec.append(v[word])\n",
        "    elif word == PAD:\n",
        "      vec.append(v[PAD])\n",
        "    else:\n",
        "      vec.append(v[UNK])\n",
        "\n",
        "  return torch.stack(vec)"
      ]
    },
    {
      "cell_type": "code",
      "execution_count": null,
      "metadata": {
        "id": "sIPIF_58PA0S"
      },
      "outputs": [],
      "source": [
        "#Find the class belonging to data and encode in one-hot encoding\n",
        "\n",
        "def define_classes(labels: list):\n",
        "\n",
        "  new_list = []\n",
        "\n",
        "  for l in labels:\n",
        "    for li in l:\n",
        "      new_list.append(li)\n",
        "\n",
        "  #find number of different classes\n",
        "  classes = []\n",
        "  for i in np.unique(new_list):\n",
        "    classes.append(i)\n",
        "  num_class = len(classes)\n",
        "\n",
        "  #associate an integer to each class\n",
        "  classes_dict = {}\n",
        "  counter = 0\n",
        "  for elem in classes:\n",
        "    if elem not in classes_dict.keys():\n",
        "        classes_dict[elem]=counter\n",
        "        counter+=1\n",
        "\n",
        "  print(\"Found \"+str(num_class)+\" classes\")\n",
        "\n",
        "  #create a dictionary where each int correspond to a classe encoded with one-hot encoding\n",
        "  ref = list(classes_dict.values())\n",
        "  app = torch.tensor(ref)\n",
        "  new_labels = list(F.one_hot(app, num_classes=num_class))\n",
        "  one_hot_dict = {}\n",
        "  for i,j in zip(ref,new_labels):\n",
        "    one_hot_dict.update({i:j})\n",
        "\n",
        "  #create a set inf form: [[tenso1_1,...tensor1_N],...,[tensorM_1,...tensorM_N]]\n",
        "  #where each list of tensors is a class represented in one-hot encoding\n",
        "\n",
        "  Y = []\n",
        "  for l in labels:\n",
        "    y = []\n",
        "    for li in l:\n",
        "      #if li != PAD:\n",
        "      y.append(one_hot_dict.get(classes_dict.get(li)))\n",
        "      #else:\n",
        "        #y.append(torch.zeros(13))\n",
        "    Y.append(torch.stack(y))\n",
        "  #y = torch.stack(y).squeeze()\n",
        "\n",
        "  return torch.stack(Y), classes_dict"
      ]
    },
    {
      "cell_type": "code",
      "execution_count": null,
      "metadata": {
        "id": "LvWvSeHenB5N"
      },
      "outputs": [],
      "source": [
        "#create a dataset linking each text to its class, useful to pass data at the classification model\n",
        "def create_dataset(x,y,batch_size):\n",
        "  dataset = []\n",
        "  dataset = [(data,label) for data,label in zip(x,y)]\n",
        "  return DataLoader(dataset, batch_size)"
      ]
    },
    {
      "cell_type": "code",
      "execution_count": null,
      "metadata": {
        "id": "vY2NwtPsmiUy"
      },
      "outputs": [],
      "source": [
        "#Re-build a List[List[str]] both for true labels and predicted labels\n",
        "#Needed to evaluate the model with seqeval\n",
        "def data_for_evaluation(true,pred,lenghts,classes_dict_inv):\n",
        "\n",
        "  y_true = []\n",
        "  y_pred = []\n",
        "\n",
        "  Y_true = []\n",
        "  Y_pred = []\n",
        "\n",
        "  cont1 = 0\n",
        "  cont2 = 0\n",
        "\n",
        "  for i in range(len(lenghts)):\n",
        "\n",
        "    y_true = []\n",
        "    y_pred = []\n",
        "\n",
        "    cont1+=cont2\n",
        "    cont2=0\n",
        "\n",
        "    for j in range(lenghts[i]):\n",
        "      y_true.append(classes_dict_inv.get(str(true[j+cont1])))\n",
        "      y_pred.append(classes_dict_inv.get(str(pred[j+cont1])))\n",
        "      cont2+=1\n",
        "\n",
        "    Y_true.append(y_true)\n",
        "    Y_pred.append(y_pred)\n",
        "  \n",
        "  #Rutrun labels withouth padding and prediction withouth padding, both List[List[str]]\n",
        "  return Y_true, Y_pred"
      ]
    },
    {
      "cell_type": "code",
      "execution_count": null,
      "metadata": {
        "id": "uhIrhxXPJ0bQ"
      },
      "outputs": [],
      "source": [
        "#fuction to invert keys and values of a dictionary\n",
        "def invert_dictionary(classes: dict):\n",
        "\n",
        "  items_list = classes.items()\n",
        "  new_dict = {}\n",
        "  for i in list(items_list):\n",
        "    new_dict.update({i[1]:i[0]})\n",
        "\n",
        "  return new_dict"
      ]
    },
    {
      "cell_type": "code",
      "execution_count": null,
      "metadata": {
        "id": "hpQvGKZ8JNJi"
      },
      "outputs": [],
      "source": [
        "def plot_classification_report(y, pred, classes: list):\n",
        "  \n",
        "  print('Classification Report')\n",
        "  print(classification_report(y, pred, target_names=classes))"
      ]
    },
    {
      "cell_type": "code",
      "execution_count": null,
      "metadata": {
        "id": "waFG_7BWL7Aa"
      },
      "outputs": [],
      "source": [
        "def plot_confusion_matrix(y: np.array, pred: np.array, classes: list):\n",
        "  \n",
        "  print('Confusion Matrix')\n",
        "  cm = confusion_matrix(y, pred)\n",
        "  classes = classes\n",
        "  fig, ax = plt.subplots(figsize=(9,9))\n",
        "  im = ax.imshow(cm, interpolation='nearest', cmap=plt.cm.Blues)\n",
        "  ax.figure.colorbar(im, ax=ax)\n",
        "  ax.set(xticks=np.arange(cm.shape[1]), yticks=np.arange(cm.shape[0]), xticklabels=classes, yticklabels=classes,\n",
        "           title='Test set',\n",
        "           ylabel='True label',\n",
        "           xlabel='Predicted label')\n",
        "  for i in range(cm.shape[0]):\n",
        "    for j in range(cm.shape[1]):\n",
        "        ax.text(j, i, format(cm[i, j], 'd'), ha=\"center\", va=\"center\")\n",
        "  fig.tight_layout()"
      ]
    },
    {
      "cell_type": "code",
      "execution_count": null,
      "metadata": {
        "id": "Y9aJaHeIZfKH"
      },
      "outputs": [],
      "source": [
        "def plot_train_trend(train_loss: list, validation_loss: list, title: str):\n",
        "\n",
        "  plt.plot(range(len(train_loss)),train_loss)\n",
        "  plt.plot(range(len(validation_loss)),validation_loss)\n",
        "  plt.title(title)\n",
        "  plt.xlabel('Epochs')\n",
        "  plt.ylabel(title)\n",
        "  plt.legend(['Train loss', 'Validation loss'], loc='upper left')\n",
        "  plt.show"
      ]
    },
    {
      "cell_type": "code",
      "execution_count": null,
      "metadata": {
        "id": "t-VZm87gMAOu"
      },
      "outputs": [],
      "source": [
        "def plot_histogram(labels, title):\n",
        "\n",
        "  histogram = {}\n",
        "  c=0\n",
        "  for l in labels:\n",
        "    for el in l:\n",
        "      if el not in histogram.keys():\n",
        "        histogram.update({el:1})\n",
        "      else:\n",
        "        c = histogram.get(el)\n",
        "        c=c+1\n",
        "        histogram.update({el:c})\n",
        "\n",
        "  histogram.pop(PAD)\n",
        "  values = []\n",
        "  for k in histogram.keys():\n",
        "    values.append(histogram.get(k))\n",
        "\n",
        "  keys = list(histogram.keys())\n",
        "\n",
        "  fig, ax = plt.subplots(figsize=(10,5))\n",
        "  plt.title(title) \n",
        "  plt.bar(keys, values, log=True)\n",
        "  plt.plot()\n",
        "  plt.show()"
      ]
    },
    {
      "cell_type": "code",
      "execution_count": null,
      "metadata": {
        "id": "g6yY4y0ERe3w"
      },
      "outputs": [],
      "source": [
        "def train(model, optimizer, data_train, data_val, loss_f, epochs: int = 10):\n",
        "\n",
        "    tot_loss_train = []\n",
        "    tot_loss_val = []\n",
        "    \n",
        "    for epoch in range(epochs):\n",
        "        \n",
        "        print(\"\\nepoch: \"+str(epoch+1)+\"/\"+str(epochs))\n",
        "\n",
        "        #training loop\n",
        "        loss_train = []  \n",
        "        for x, y in data_train:\n",
        "\n",
        "            optimizer.zero_grad()\n",
        "            out = model(x.type(torch.float))\n",
        "            out = out.view(-1, out.shape[-1])\n",
        "            y = y.view(-1, y.shape[-1])\n",
        "            y = torch.argmax(y, -1)\n",
        "            loss = loss_f(out, y)\n",
        "            loss_train.append(loss.item())\n",
        "            loss.backward()\n",
        "            optimizer.step()\n",
        "\n",
        "        lt = sum(loss_train)/len(loss_train)\n",
        "\n",
        "        tot_loss_train.append(lt)\n",
        "        print(\"Train Loss: \"+str(lt))\n",
        "\n",
        "        #validation loop\n",
        "        loss_val = []\n",
        "        for x, y in data_val:\n",
        "\n",
        "            out = model(x.type(torch.float))\n",
        "            out = out.view(-1, out.shape[-1])\n",
        "            y = y.view(-1, y.shape[-1])\n",
        "            y = torch.argmax(y, -1)\n",
        "            loss = loss_f(out, y)\n",
        "            loss_val.append(loss.item())\n",
        "\n",
        "        lv = sum(loss_val)/len(loss_val)\n",
        "\n",
        "        tot_loss_val.append(lv)\n",
        "        print(\"Validation Loss: \"+str(lv)+\"\\n\")\n",
        "\n",
        "    return tot_loss_train, tot_loss_val"
      ]
    },
    {
      "cell_type": "code",
      "execution_count": null,
      "metadata": {
        "id": "iyhelOwV7aoK"
      },
      "outputs": [],
      "source": [
        "def test(model: nn.Module, dataloader: DataLoader):\n",
        "\n",
        "  num_true = 0\n",
        "  pred = []\n",
        "  true = []\n",
        "  tot=0\n",
        "\n",
        "  for x, y in dataloader:\n",
        "\n",
        "      with torch.no_grad():\n",
        "        out = model(x.type(torch.float))\n",
        "\n",
        "      for elem_pred,elem_true in zip(torch.argmax(out, -1), torch.argmax(y, -1)):\n",
        "\n",
        "          for e_pred,e_true in zip(elem_pred,elem_true):\n",
        "\n",
        "            e_pred = e_pred.item()\n",
        "            e_true = e_true.item()\n",
        "\n",
        "            if e_pred == e_true: \n",
        "              num_true += 1\n",
        "            if e_true!=13:\n",
        "              tot+=1\n",
        "              true.append(e_true)\n",
        "              pred.append(e_pred)\n",
        "\n",
        "  print(num_true,\"/\",tot)\n",
        "  print(f'# accuracy: {(num_true / tot):.2f}')\n",
        "  return true, pred"
      ]
    },
    {
      "cell_type": "markdown",
      "metadata": {
        "id": "zCFU-gCbaIQz"
      },
      "source": [
        "##Read and organize data"
      ]
    },
    {
      "cell_type": "code",
      "execution_count": null,
      "metadata": {
        "id": "hCPqjpxFLu--"
      },
      "outputs": [],
      "source": [
        "#Read vocabulary (word embeddings)\n",
        "voc = torch.load(pth_voc)"
      ]
    },
    {
      "cell_type": "code",
      "execution_count": null,
      "metadata": {
        "id": "fzpAi12O37aZ"
      },
      "outputs": [],
      "source": [
        "#Read dictionary where the keys are integers and values are the associated classes\n",
        "file_dict=open(pth_dict, 'r')\n",
        "classes_dict_inv = json.loads(file_dict.read())"
      ]
    },
    {
      "cell_type": "code",
      "execution_count": null,
      "metadata": {
        "id": "weqw2i7mCoh0"
      },
      "outputs": [],
      "source": [
        "'''\n",
        "Read data (train and dev) from files\n",
        "Return: 1.data with padding\n",
        "        2.labels with padding\n",
        "        3.data without padding\n",
        "        4.labels withouth padding\n",
        "'''\n",
        "data, labels, original_data, original_labels = read_data(pth_train)\n",
        "data_dev, labels_dev, original_data_dev, original_labels_dev = read_data(pth_dev)"
      ]
    },
    {
      "cell_type": "code",
      "execution_count": null,
      "metadata": {
        "colab": {
          "base_uri": "https://localhost:8080/"
        },
        "id": "PLReq1dmWjzQ",
        "outputId": "fbb8626b-d9d2-4c73-8978-9447d1067446"
      },
      "outputs": [
        {
          "output_type": "stream",
          "name": "stdout",
          "text": [
            "Found 14535 samples.\n",
            "Found 765 samples.\n",
            "Found 14 classes\n",
            "Found 14 classes\n",
            "Shape of train data: torch.Size([14535, 41, 300])\n",
            "Shape of train labels: torch.Size([14535, 41, 14])\n",
            "Shape of dev data: torch.Size([765, 34, 300])\n",
            "Shape of dev labels: torch.Size([765, 34, 14])\n"
          ]
        }
      ],
      "source": [
        "#Convert data into associated tensors\n",
        "new_data = VecFromWord(voc, data)\n",
        "new_data_dev = VecFromWord(voc, data_dev)\n",
        "\n",
        "#Convert labels into one-hot encoding notation\n",
        "new_labels, classes_dict = define_classes(labels)\n",
        "new_labels_dev, _ = define_classes(labels_dev)\n",
        "\n",
        "print(\"Shape of train data: \"+str(new_data.shape))\n",
        "print(\"Shape of train labels: \"+str(new_labels.shape)) \n",
        "print(\"Shape of dev data: \"+str(new_data_dev.shape))\n",
        "print(\"Shape of dev labels: \"+str(new_labels_dev.shape)) "
      ]
    },
    {
      "cell_type": "code",
      "execution_count": null,
      "metadata": {
        "id": "BOPU3IzEyWLU"
      },
      "outputs": [],
      "source": [
        "#HYPERPARAMETERS\n",
        "N_FEATURES = new_data.shape[2]\n",
        "N_HIDDEN = 100\n",
        "N_CLASSES = new_labels.shape[2]-1\n",
        "EPOCHS = 35\n",
        "LOSS = nn.CrossEntropyLoss(ignore_index=13)\n",
        "BATCH = 256"
      ]
    },
    {
      "cell_type": "code",
      "execution_count": null,
      "metadata": {
        "id": "H2bJp8QInDf5"
      },
      "outputs": [],
      "source": [
        "#split training set into train and validation to train and to evaluate the model\n",
        "x_train, x_val, y_train, y_val = train_test_split(new_data,new_labels, test_size = 0.1, random_state = 43)\n",
        "#Define dataset from data for the input of the model\n",
        "dataset_train = create_dataset(x_train, y_train, BATCH)\n",
        "dataset_val = create_dataset(x_val, y_val, BATCH)\n",
        "dataset_dev = create_dataset(new_data_dev,new_labels_dev, BATCH)"
      ]
    },
    {
      "cell_type": "markdown",
      "metadata": {
        "id": "kpb6aqepZ7cs"
      },
      "source": [
        "##Model, training, test"
      ]
    },
    {
      "cell_type": "code",
      "execution_count": null,
      "metadata": {
        "id": "FQOTgeEnok7A"
      },
      "outputs": [],
      "source": [
        "#Definition of the model\n",
        "class NERClassifier(torch.nn.Module):\n",
        "\n",
        "    def __init__(self, embedding_dim, n_hidden, classes):\n",
        "        super(NERClassifier, self).__init__()\n",
        "        self.lstm = nn.LSTM(embedding_dim, n_hidden, bidirectional = True, num_layers = 2, dropout=0.3, batch_first = True)\n",
        "        self.hidden1 = torch.nn.Linear(2*n_hidden, 100)\n",
        "        self.hidden2 = torch.nn.Linear(100,80)\n",
        "        self.hidden3 = torch.nn.Linear(80,50)\n",
        "        self.hidden4 = torch.nn.Linear(50,classes)\n",
        "\n",
        "    def forward(self, sentence):\n",
        "        out, _ = self.lstm(sentence)\n",
        "        out = self.hidden1(out)\n",
        "        out = torch.relu(out)\n",
        "        out = nn.Dropout(0.2)(out)\n",
        "        out = self.hidden2(out)\n",
        "        out = torch.relu(out)\n",
        "        out = nn.Dropout(0.3)(out)\n",
        "        out = self.hidden3(out)\n",
        "        out = torch.relu(out)\n",
        "        out = nn.Dropout(0.2)(out)\n",
        "        out = self.hidden4(out)\n",
        "        out = F.log_softmax(out, dim=2)\n",
        "        return out"
      ]
    },
    {
      "cell_type": "code",
      "execution_count": null,
      "metadata": {
        "id": "IvdwBMxFql4a"
      },
      "outputs": [],
      "source": [
        "#Model Instance\n",
        "model = NERClassifier(N_FEATURES, N_HIDDEN, N_CLASSES)\n",
        "optimizer = torch.optim.Adam(model.parameters())"
      ]
    },
    {
      "cell_type": "code",
      "execution_count": null,
      "metadata": {
        "id": "f2fLT-qXBUb3"
      },
      "outputs": [],
      "source": [
        "#ONLY TO LOAD A SAVED MODEL\n",
        "model = torch.load(\"/content/drive/MyDrive/model.pt\")"
      ]
    },
    {
      "cell_type": "code",
      "execution_count": null,
      "metadata": {
        "colab": {
          "base_uri": "https://localhost:8080/"
        },
        "id": "abc-NTB8qsTG",
        "outputId": "0d1b8927-695b-4ed9-bfcf-46f88229a08b"
      },
      "outputs": [
        {
          "output_type": "stream",
          "name": "stdout",
          "text": [
            "\n",
            "epoch: 1/35\n",
            "Train Loss: 1.3747010082006454\n",
            "Validation Loss: 0.943508913119634\n",
            "\n",
            "\n",
            "epoch: 2/35\n",
            "Train Loss: 0.8767197063336005\n",
            "Validation Loss: 0.7422666251659393\n",
            "\n",
            "\n",
            "epoch: 3/35\n",
            "Train Loss: 0.7119508683681488\n",
            "Validation Loss: 0.6597866912682852\n",
            "\n",
            "\n",
            "epoch: 4/35\n",
            "Train Loss: 0.6218213954797158\n",
            "Validation Loss: 0.5497797131538391\n",
            "\n",
            "\n",
            "epoch: 5/35\n",
            "Train Loss: 0.507758151453275\n",
            "Validation Loss: 0.4665103554725647\n",
            "\n",
            "\n",
            "epoch: 6/35\n",
            "Train Loss: 0.3883328658456986\n",
            "Validation Loss: 0.3651648958524068\n",
            "\n",
            "\n",
            "epoch: 7/35\n",
            "Train Loss: 0.3114625307229849\n",
            "Validation Loss: 0.3466644038756688\n",
            "\n",
            "\n",
            "epoch: 8/35\n",
            "Train Loss: 0.2603884015518885\n",
            "Validation Loss: 0.29347726702690125\n",
            "\n",
            "\n",
            "epoch: 9/35\n",
            "Train Loss: 0.22077621505237544\n",
            "Validation Loss: 0.2850275784730911\n",
            "\n",
            "\n",
            "epoch: 10/35\n",
            "Train Loss: 0.19467744023467487\n",
            "Validation Loss: 0.27586541573206586\n",
            "\n",
            "\n",
            "epoch: 11/35\n",
            "Train Loss: 0.1740569415000769\n",
            "Validation Loss: 0.2837388863166173\n",
            "\n",
            "\n",
            "epoch: 12/35\n",
            "Train Loss: 0.14495510733328187\n",
            "Validation Loss: 0.2714558740456899\n",
            "\n",
            "\n",
            "epoch: 13/35\n",
            "Train Loss: 0.12204859325160775\n",
            "Validation Loss: 0.29170123239358264\n",
            "\n",
            "\n",
            "epoch: 14/35\n",
            "Train Loss: 0.1073894295304154\n",
            "Validation Loss: 0.31854142745335895\n",
            "\n",
            "\n",
            "epoch: 15/35\n",
            "Train Loss: 0.10407566250516818\n",
            "Validation Loss: 0.406995748480161\n",
            "\n",
            "\n",
            "epoch: 16/35\n",
            "Train Loss: 0.1210516684043866\n",
            "Validation Loss: 0.2926209519306819\n",
            "\n",
            "\n",
            "epoch: 17/35\n",
            "Train Loss: 0.08663771813735366\n",
            "Validation Loss: 0.3219338307778041\n",
            "\n",
            "\n",
            "epoch: 18/35\n",
            "Train Loss: 0.07868720010782664\n",
            "Validation Loss: 0.3272191733121872\n",
            "\n",
            "\n",
            "epoch: 19/35\n",
            "Train Loss: 0.07229314311049305\n",
            "Validation Loss: 0.45026300350824994\n",
            "\n",
            "\n",
            "epoch: 20/35\n",
            "Train Loss: 0.07882120877575989\n",
            "Validation Loss: 0.37253036598364514\n",
            "\n",
            "\n",
            "epoch: 21/35\n",
            "Train Loss: 0.05936430959711568\n",
            "Validation Loss: 0.376267209649086\n",
            "\n",
            "\n",
            "epoch: 22/35\n",
            "Train Loss: 0.06063001570650018\n",
            "Validation Loss: 0.45810825129350025\n",
            "\n",
            "\n",
            "epoch: 23/35\n",
            "Train Loss: 0.06023634613778155\n",
            "Validation Loss: 0.3727276772260666\n",
            "\n",
            "\n",
            "epoch: 24/35\n",
            "Train Loss: 0.0382797734793992\n",
            "Validation Loss: 0.4138048241535823\n",
            "\n",
            "\n",
            "epoch: 25/35\n",
            "Train Loss: 0.02731702010406969\n",
            "Validation Loss: 0.45472799241542816\n",
            "\n",
            "\n",
            "epoch: 26/35\n",
            "Train Loss: 0.019958110835152462\n",
            "Validation Loss: 0.4340638021628062\n",
            "\n",
            "\n",
            "epoch: 27/35\n",
            "Train Loss: 0.016631942543496665\n",
            "Validation Loss: 0.4509200106064479\n",
            "\n",
            "\n",
            "epoch: 28/35\n",
            "Train Loss: 0.016259423660253212\n",
            "Validation Loss: 0.48070673644542694\n",
            "\n",
            "\n",
            "epoch: 29/35\n",
            "Train Loss: 0.015488410549341306\n",
            "Validation Loss: 0.5189947982629141\n",
            "\n",
            "\n",
            "epoch: 30/35\n",
            "Train Loss: 0.015624753613687621\n",
            "Validation Loss: 0.6233859658241272\n",
            "\n",
            "\n",
            "epoch: 31/35\n",
            "Train Loss: 0.01726091069688734\n",
            "Validation Loss: 0.7963372071584066\n",
            "\n",
            "\n",
            "epoch: 32/35\n",
            "Train Loss: 0.023533710144245282\n",
            "Validation Loss: 0.5013667643070221\n",
            "\n",
            "\n",
            "epoch: 33/35\n",
            "Train Loss: 0.018066899238664728\n",
            "Validation Loss: 0.509139726559321\n",
            "\n",
            "\n",
            "epoch: 34/35\n",
            "Train Loss: 0.013834876695629926\n",
            "Validation Loss: 0.5387506286303202\n",
            "\n",
            "\n",
            "epoch: 35/35\n",
            "Train Loss: 0.011348535897783361\n",
            "Validation Loss: 0.5825038055578867\n",
            "\n"
          ]
        }
      ],
      "source": [
        "#Train the model\n",
        "loss_train, loss_val = train(model, optimizer, dataset_train, dataset_val, LOSS, EPOCHS)"
      ]
    },
    {
      "cell_type": "code",
      "execution_count": null,
      "metadata": {
        "colab": {
          "base_uri": "https://localhost:8080/"
        },
        "id": "4PNCZaeH7gjl",
        "outputId": "60247729-2882-45f9-af8f-9888e58b4d0d"
      },
      "outputs": [
        {
          "output_type": "stream",
          "name": "stdout",
          "text": [
            "11758 / 12751\n",
            "# accuracy: 0.92\n"
          ]
        }
      ],
      "source": [
        "#Compute prediction to test de model\n",
        "true, pred = test(model, dataset_dev)"
      ]
    },
    {
      "cell_type": "code",
      "execution_count": null,
      "metadata": {
        "id": "OntM_Ry06ErS"
      },
      "outputs": [],
      "source": [
        "#TO SAVE A MODEL\n",
        "pth_model = \"/content/drive/MyDrive/model.pt\"\n",
        "torch.save(model, pth_model, pickle_protocol=4)"
      ]
    },
    {
      "cell_type": "markdown",
      "metadata": {
        "id": "W_cRMnl-Z0I_"
      },
      "source": [
        "##Graphs"
      ]
    },
    {
      "cell_type": "code",
      "execution_count": null,
      "metadata": {
        "colab": {
          "base_uri": "https://localhost:8080/",
          "height": 1000
        },
        "id": "Bd-a3hluZscH",
        "outputId": "c2ac8bf8-296f-4fd4-e4dc-93ad35fe66ea"
      },
      "outputs": [
        {
          "output_type": "stream",
          "name": "stdout",
          "text": [
            "Classification Report\n",
            "              precision    recall  f1-score   support\n",
            "\n",
            "      B-CORP       0.80      0.50      0.62       133\n",
            "        B-CW       0.47      0.51      0.49       170\n",
            "       B-GRP       0.72      0.67      0.69       190\n",
            "       B-LOC       0.78      0.78      0.78       243\n",
            "       B-PER       0.83      0.90      0.86       300\n",
            "      B-PROD       0.60      0.50      0.55       149\n",
            "      I-CORP       0.79      0.50      0.61       119\n",
            "        I-CW       0.69      0.61      0.65       261\n",
            "       I-GRP       0.81      0.72      0.77       377\n",
            "       I-LOC       0.77      0.70      0.73       153\n",
            "       I-PER       0.83      0.92      0.87       329\n",
            "      I-PROD       0.65      0.59      0.61        87\n",
            "           O       0.96      0.98      0.97     10240\n",
            "\n",
            "    accuracy                           0.92     12751\n",
            "   macro avg       0.75      0.68      0.71     12751\n",
            "weighted avg       0.92      0.92      0.92     12751\n",
            "\n",
            "Confusion Matrix\n",
            "F1 score: 0.5874084700875751\n",
            "\n",
            "              precision    recall  f1-score   support\n",
            "\n",
            "        CORP       0.59      0.44      0.50       133\n",
            "          CW       0.34      0.42      0.38       170\n",
            "         GRP       0.57      0.58      0.58       190\n",
            "         LOC       0.73      0.76      0.74       243\n",
            "         PER       0.77      0.88      0.82       300\n",
            "        PROD       0.54      0.48      0.51       149\n",
            "\n",
            "   micro avg       0.62      0.64      0.63      1185\n",
            "   macro avg       0.59      0.59      0.59      1185\n",
            "weighted avg       0.62      0.64      0.63      1185\n",
            "\n"
          ]
        },
        {
          "output_type": "display_data",
          "data": {
            "text/plain": [
              "<Figure size 432x288 with 1 Axes>"
            ],
            "image/png": "[encoded data removed]"
          },
          "metadata": {
            "needs_background": "light"
          }
        },
        {
          "output_type": "display_data",
          "data": {
            "text/plain": [
              "<Figure size 648x648 with 2 Axes>"
            ],
            "image/png": "[encoded data removed]"
          },
          "metadata": {
            "needs_background": "light"
          }
        }
      ],
      "source": [
        "#Plot Loss curves\n",
        "plot_train_trend(loss_train, loss_val,\"Loss\")\n",
        "\n",
        "#Classification report using sklearn\n",
        "classes = list(classes_dict.keys())\n",
        "classes.remove(PAD)\n",
        "plot_classification_report(np.array(true), np.array(pred), classes)\n",
        "\n",
        "#Confusion matrix\n",
        "plot_confusion_matrix(true,pred,classes)\n",
        "\n",
        "#F1 and classification report using seqeval\n",
        "\n",
        "lenghts = compute_lengths(original_labels_dev)\n",
        "''' Transorm 'true' and 'prediction', which are List[int],\n",
        "    in List[List[str]], needed for seqeval evaluation'''\n",
        "Y_true, Y_pred = data_for_evaluation(true, pred, lenghts, classes_dict_inv)\n",
        "print(\"F1 score: \"+str(seqeval_f1_score(Y_true, Y_pred, average=\"macro\"))+\"\\n\")\n",
        "print(seqeval_classification(Y_true, Y_pred))"
      ]
    },
    {
      "cell_type": "code",
      "execution_count": null,
      "metadata": {
        "colab": {
          "base_uri": "https://localhost:8080/",
          "height": 655
        },
        "id": "c_ToSOloNQPq",
        "outputId": "ab666215-7439-43b5-b76a-99c4ca9e332a"
      },
      "outputs": [
        {
          "output_type": "display_data",
          "data": {
            "text/plain": [
              "<Figure size 720x360 with 1 Axes>"
            ],
            "image/png": "[encoded data removed]"
          },
          "metadata": {
            "needs_background": "light"
          }
        },
        {
          "output_type": "display_data",
          "data": {
            "text/plain": [
              "<Figure size 720x360 with 1 Axes>"
            ],
            "image/png": "[encoded data removed]"
          },
          "metadata": {
            "needs_background": "light"
          }
        }
      ],
      "source": [
        "#Plot histogram to visualize distribution of data labels\n",
        "plot_histogram(labels, \"Train data\")\n",
        "plot_histogram(labels_dev, \"Dev data\")"
      ]
    },
    {
      "cell_type": "markdown",
      "metadata": {
        "id": "Pi-81eS0V3gl"
      },
      "source": [
        "#POS"
      ]
    },
    {
      "cell_type": "markdown",
      "metadata": {
        "id": "3-m0r4PsZSl0"
      },
      "source": [
        "##Libreries and functions"
      ]
    },
    {
      "cell_type": "code",
      "execution_count": null,
      "metadata": {
        "id": "Q0UwIu2cZ8QV",
        "colab": {
          "base_uri": "https://localhost:8080/"
        },
        "outputId": "e015e3c2-361c-4972-fbe7-9a4d52bbf75e"
      },
      "outputs": [
        {
          "output_type": "stream",
          "name": "stdout",
          "text": [
            "[nltk_data] Downloading package punkt to /root/nltk_data...\n",
            "[nltk_data]   Unzipping tokenizers/punkt.zip.\n",
            "[nltk_data] Downloading package averaged_perceptron_tagger to\n",
            "[nltk_data]     /root/nltk_data...\n",
            "[nltk_data]   Unzipping taggers/averaged_perceptron_tagger.zip.\n"
          ]
        },
        {
          "output_type": "execute_result",
          "data": {
            "text/plain": [
              "True"
            ]
          },
          "metadata": {},
          "execution_count": 44
        }
      ],
      "source": [
        "import nltk\n",
        "nltk.download('punkt')\n",
        "nltk.download('averaged_perceptron_tagger')"
      ]
    },
    {
      "cell_type": "code",
      "execution_count": null,
      "metadata": {
        "id": "LB8YqBIPcbeO"
      },
      "outputs": [],
      "source": [
        "#Return Lis[List[str]] each str is the pos tag related to the word\n",
        "def generate_pos_tags(original_data):\n",
        "  #Associate pos tag to data (return [[(word1,pos_tag)...(wordN,pos_tag)]...[...]])\n",
        "  pos_tag_data = []\n",
        "  for d in original_data:\n",
        "    pos_tag_data.append(nltk.pos_tag(d))\n",
        "\n",
        "  #Do a list of List of List of pos tags related to a List of List of words\n",
        "  data_pos_tags = []\n",
        "  for t in pos_tag_data:\n",
        "    pos_tags = []\n",
        "    for ti in t:\n",
        "      pos_tags.append(ti[1])\n",
        "    data_pos_tags.append(pos_tags)\n",
        "\n",
        "  #Add pad to pos tags\n",
        "  max_len = max(compute_lengths(data_pos_tags))\n",
        "  for d in data_pos_tags:\n",
        "      while len(d)<max_len:\n",
        "        d.append(PAD)\n",
        "\n",
        "  return data_pos_tags"
      ]
    },
    {
      "cell_type": "code",
      "execution_count": null,
      "metadata": {
        "id": "Or9kLe5Nl0FJ"
      },
      "outputs": [],
      "source": [
        "#Return a dictionary {POS_TAG:INTEGER}, each integer correspond to a tag (0 is for padding)\n",
        "def define_pos_voc(tags: list, PAD = \"pad\"):\n",
        "\n",
        "  new_list = []\n",
        "\n",
        "  for t in tags:\n",
        "    for ti in t:\n",
        "      new_list.append(ti)\n",
        "\n",
        "  #find number of different classes\n",
        "  pos_tags = []\n",
        "  for i in np.unique(new_list):\n",
        "    pos_tags.append(i)\n",
        "  num_tags = len(pos_tags)\n",
        "\n",
        "  #associate an integer to each class\n",
        "  pos_dict = {}\n",
        "  counter = 1\n",
        "  for elem in pos_tags:\n",
        "    if elem not in pos_dict.keys():\n",
        "        pos_dict[elem]=counter\n",
        "        counter+=1\n",
        "\n",
        "  pos_dict.update({PAD:0})\n",
        "\n",
        "  return pos_dict"
      ]
    },
    {
      "cell_type": "code",
      "execution_count": null,
      "metadata": {
        "id": "EbrgmLUGS9xD"
      },
      "outputs": [],
      "source": [
        "def embed_data(pos_voc, data, data_pos_tags, embedding):\n",
        "  #Embedding with random tensors\n",
        "  embedded_tags = []\n",
        "  for sentence in data_pos_tags:\n",
        "    emb_tag = []\n",
        "    for tag in sentence:\n",
        "      emb_tag.append(pos_voc.get(tag))\n",
        "    embedded_tags.append(emb_tag)\n",
        "\n",
        "  with torch.no_grad():\n",
        "    new_pos = embedding(torch.LongTensor(embedded_tags))\n",
        "\n",
        "  return new_pos, embedded_tags"
      ]
    },
    {
      "cell_type": "code",
      "execution_count": null,
      "metadata": {
        "id": "M4CxIQx1BM6S"
      },
      "outputs": [],
      "source": [
        "def embed_data2(pos_voc, data_pos_tags):\n",
        "  #Embedding with random tensors\n",
        "  embedded_tags = []\n",
        "  for sentence in data_pos_tags:\n",
        "    emb_tag = []\n",
        "    for tag in sentence:\n",
        "      emb_tag.append(pos_voc.get(tag))\n",
        "    embedded_tags.append(emb_tag)\n",
        "\n",
        "  return embedded_tags"
      ]
    },
    {
      "cell_type": "code",
      "execution_count": null,
      "metadata": {
        "id": "pLnaNS_CkbHP"
      },
      "outputs": [],
      "source": [
        "#Concatenate tensors of data\n",
        "def concatenate_data_pos(data, tags):\n",
        "\n",
        "  data_concat = []\n",
        "  for i,j in zip(data,tags):\n",
        "    data_concat.append(torch.cat((i,j), dim=1))\n",
        "\n",
        "  return data_concat"
      ]
    },
    {
      "cell_type": "markdown",
      "metadata": {
        "id": "vq1E2PU5K56D"
      },
      "source": [
        "##Model with embedding layer for POS"
      ]
    },
    {
      "cell_type": "markdown",
      "metadata": {
        "id": "QLZjSFy1V9nV"
      },
      "source": [
        "###Read data "
      ]
    },
    {
      "cell_type": "code",
      "execution_count": null,
      "metadata": {
        "id": "Bw9AzqxEQWIe"
      },
      "outputs": [],
      "source": [
        "#Generate POS tags associated to words\n",
        "data_pos_tags = generate_pos_tags(original_data)\n",
        "#Defina a dictionary of POS tgs\n",
        "pos_voc = define_pos_voc(data_pos_tags)"
      ]
    },
    {
      "cell_type": "code",
      "execution_count": null,
      "metadata": {
        "id": "7F_bCJ0GT_xH"
      },
      "outputs": [],
      "source": [
        "#Generate Pos taggers with pre-trainated pos tagging\n",
        "pos = embed_data2(pos_voc, data_pos_tags)\n",
        "data_pos_tags_dev = generate_pos_tags(original_data_dev)\n",
        "pos_dev = embed_data2(pos_voc, data_pos_tags_dev)"
      ]
    },
    {
      "cell_type": "code",
      "execution_count": null,
      "metadata": {
        "id": "-AfaZ8SOPSzM"
      },
      "outputs": [],
      "source": [
        "#Convert pos taggers list in array\n",
        "pos = np.array(pos)\n",
        "pos = np.reshape(pos, (pos.shape[0],pos.shape[1],1))\n",
        "pos_dev = np.array(pos_dev)\n",
        "pos_dev = np.reshape(pos_dev, (pos_dev.shape[0],pos_dev.shape[1],1))"
      ]
    },
    {
      "cell_type": "code",
      "execution_count": null,
      "metadata": {
        "id": "XK6IWgUrTOlP"
      },
      "outputs": [],
      "source": [
        "#split training set into train and validation to train and to evaluate the model\n",
        "x_pos_train, x_pos_val, y_pos_train, y_pos_val = train_test_split(pos, new_labels, test_size = 0.1, random_state = 43)\n",
        "#Define dataset from data for the input of the model\n",
        "dataset_pos_train = create_dataset(x_pos_train, y_pos_train, BATCH)\n",
        "dataset_pos_val = create_dataset(x_pos_val, y_pos_val, BATCH)\n",
        "dataset_pos_dev = create_dataset(pos_dev, new_labels_dev, BATCH) "
      ]
    },
    {
      "cell_type": "markdown",
      "source": [
        "###Model class and training and test functions\n"
      ],
      "metadata": {
        "id": "L_UHXr2L0d51"
      }
    },
    {
      "cell_type": "code",
      "execution_count": null,
      "metadata": {
        "id": "XlJFIsO7s7h0"
      },
      "outputs": [],
      "source": [
        "#Definition of the model\n",
        "class NERClassifierPOS(torch.nn.Module):\n",
        "\n",
        "    def __init__(self, embedding_dim, n_hidden, classes, pos_voc):\n",
        "        super(NERClassifierPOS, self).__init__()\n",
        "        self.embedding = nn.Embedding(len(pos_voc), 300, padding_idx=40)\n",
        "        self.lstm = nn.LSTM(embedding_dim, n_hidden, bidirectional = True, num_layers = 2, dropout=0.3, batch_first = True) \n",
        "        self.hidden1 = torch.nn.Linear(2*n_hidden, 100)\n",
        "        self.hidden2 = torch.nn.Linear(100,80)\n",
        "        self.hidden3 = torch.nn.Linear(80,50)\n",
        "        self.hidden4 = torch.nn.Linear(50,classes)\n",
        "\n",
        "    def forward(self, sentence):\n",
        "        out_pos = self.embedding(sentence)\n",
        "        #print(sentence.shape)\n",
        "        out, _ = self.lstm(out_pos)\n",
        "        out = self.hidden1(out)\n",
        "        out = torch.relu(out)\n",
        "        out = nn.Dropout(0.3)(out)\n",
        "        out = self.hidden2(out)\n",
        "        out = torch.relu(out)\n",
        "        out = nn.Dropout(0.4)(out)\n",
        "        out = self.hidden3(out)\n",
        "        out = torch.relu(out)\n",
        "        out = nn.Dropout(0.3)(out)\n",
        "        out = self.hidden4(out)\n",
        "        out = F.log_softmax(out, dim=2)\n",
        "        return out"
      ]
    },
    {
      "cell_type": "code",
      "execution_count": null,
      "metadata": {
        "id": "f_K9UaHGe-ui"
      },
      "outputs": [],
      "source": [
        "def train2(model, optimizer, data_train, data_val, loss_f, epochs: int = 10):\n",
        "\n",
        "    tot_loss_train = []\n",
        "    tot_loss_val = []\n",
        "    \n",
        "    for epoch in range(epochs):\n",
        "        \n",
        "        print(\"\\nepoch: \"+str(epoch+1)+\"/\"+str(epochs))\n",
        "\n",
        "        loss_train = []  \n",
        "        for x, y in data_train:\n",
        "\n",
        "            optimizer.zero_grad()\n",
        "            x = torch.LongTensor(x)\n",
        "            out = model(x.squeeze())\n",
        "            out = out.view(-1, out.shape[-1])\n",
        "            y = y.view(-1, y.shape[-1])\n",
        "            y = torch.argmax(y, -1)\n",
        "            loss = loss_f(out, y)\n",
        "            loss_train.append(loss.item())\n",
        "            loss.backward()\n",
        "            optimizer.step()\n",
        "\n",
        "        lt = sum(loss_train)/len(loss_train)\n",
        "\n",
        "        tot_loss_train.append(lt)\n",
        "        print(\"Train Loss: \"+str(lt))\n",
        "\n",
        "        loss_val = []\n",
        "        for x, y in data_val:\n",
        "\n",
        "            x = torch.LongTensor(x)\n",
        "            out = model(x.squeeze())\n",
        "            out = out.view(-1, out.shape[-1])\n",
        "            y = y.view(-1, y.shape[-1])\n",
        "            y = torch.argmax(y, -1)\n",
        "            loss = loss_f(out, y)\n",
        "            loss_val.append(loss.item())\n",
        "\n",
        "        lv = sum(loss_val)/len(loss_val)\n",
        "\n",
        "        tot_loss_val.append(lv)\n",
        "        print(\"Validation Loss: \"+str(lv)+\"\\n\")\n",
        "\n",
        "    return tot_loss_train, tot_loss_val"
      ]
    },
    {
      "cell_type": "code",
      "execution_count": null,
      "metadata": {
        "id": "-AwZN3L7IMu_"
      },
      "outputs": [],
      "source": [
        "def test2(model: nn.Module, dataloader: DataLoader):\n",
        "  num_true = 0\n",
        "  pred = []\n",
        "  true = []\n",
        "  tot=0\n",
        "\n",
        "  for x, y in dataloader:\n",
        "\n",
        "      with torch.no_grad():\n",
        "        x = torch.LongTensor(x)\n",
        "        out = model(x.squeeze())#.type(torch.float))\n",
        "\n",
        "      for elem_pred,elem_true in zip(torch.argmax(out, -1), torch.argmax(y, -1)):\n",
        "\n",
        "          for e_pred,e_true in zip(elem_pred,elem_true):\n",
        "\n",
        "            e_pred = e_pred.item()\n",
        "            e_true = e_true.item()\n",
        "\n",
        "            if e_pred == e_true: \n",
        "              num_true += 1\n",
        "            if e_true!=13:\n",
        "              tot+=1\n",
        "              true.append(e_true)\n",
        "              pred.append(e_pred)\n",
        "\n",
        "  print(num_true,\"/\",tot)\n",
        "  print(f'# accuracy: {(num_true / tot):.2f}')\n",
        "  return true, pred"
      ]
    },
    {
      "cell_type": "markdown",
      "source": [
        "###Train and test model"
      ],
      "metadata": {
        "id": "lkbbc4bkzxie"
      }
    },
    {
      "cell_type": "code",
      "execution_count": null,
      "metadata": {
        "id": "uh7FU_eYaOXt"
      },
      "outputs": [],
      "source": [
        "#Model Instance\n",
        "model = NERClassifierPOS(300, 100, N_CLASSES, pos_voc)\n",
        "optimizer = torch.optim.Adam(model.parameters())"
      ]
    },
    {
      "cell_type": "code",
      "execution_count": null,
      "metadata": {
        "id": "XXusQjxDGop4"
      },
      "outputs": [],
      "source": [
        "#Train the model\n",
        "loss_train, loss_val = train2(model, optimizer, dataset_pos_train, dataset_pos_val, LOSS, 50)"
      ]
    },
    {
      "cell_type": "code",
      "source": [
        "#ONLY TO LOAD A SAVED MODEL\n",
        "model = torch.load(\"/content/drive/MyDrive/modelPOS.pt\")"
      ],
      "metadata": {
        "id": "Q63m_i6-v0eC"
      },
      "execution_count": null,
      "outputs": []
    },
    {
      "cell_type": "code",
      "execution_count": null,
      "metadata": {
        "id": "jWlCxopMiDCM",
        "colab": {
          "base_uri": "https://localhost:8080/"
        },
        "outputId": "334faa71-87ae-4319-9380-b95172996910"
      },
      "outputs": [
        {
          "output_type": "stream",
          "name": "stdout",
          "text": [
            "10565 / 12751\n",
            "# accuracy: 0.83\n"
          ]
        }
      ],
      "source": [
        "#Compute prediction to test de model\n",
        "true, pred = test2(model, dataset_pos_dev)"
      ]
    },
    {
      "cell_type": "code",
      "execution_count": null,
      "metadata": {
        "id": "Xn_Ixsl63WW6"
      },
      "outputs": [],
      "source": [
        "#TO SAVE A MODEL\n",
        "pth_model = \"/content/drive/MyDrive/modelPOS.pt\"\n",
        "torch.save(model, pth_model, pickle_protocol=4)"
      ]
    },
    {
      "cell_type": "markdown",
      "metadata": {
        "id": "KOpOQspvYrzZ"
      },
      "source": [
        "##Random pos tagging (out from model)\n",
        "Model used: the first described, \"NERClassifier\""
      ]
    },
    {
      "cell_type": "code",
      "execution_count": null,
      "metadata": {
        "id": "xHNJnmLdmzbl"
      },
      "outputs": [],
      "source": [
        "data_pos_tags = generate_pos_tags(original_data)\n",
        "pos_voc = define_pos_voc(data_pos_tags)"
      ]
    },
    {
      "cell_type": "code",
      "execution_count": null,
      "metadata": {
        "id": "gywMoH6znSvj"
      },
      "outputs": [],
      "source": [
        "embedding = nn.Embedding(len(pos_voc), 100, padding_idx=40)"
      ]
    },
    {
      "cell_type": "code",
      "execution_count": null,
      "metadata": {
        "id": "yPPM2_lXlNhg"
      },
      "outputs": [],
      "source": [
        "pos_tags, list_of_tags = embed_data(pos_voc, new_data, data_pos_tags, embedding)\n",
        "data_concat = concatenate_data_pos(new_data, pos_tags)\n",
        "\n",
        "data_pos_tags_dev = generate_pos_tags(original_data_dev)\n",
        "pos_tags_dev, list_of_tags_dev = embed_data(pos_voc, new_data_dev, data_pos_tags_dev, embedding)\n",
        "data_concat_dev = concatenate_data_pos(new_data_dev, pos_tags_dev)"
      ]
    },
    {
      "cell_type": "code",
      "execution_count": null,
      "metadata": {
        "id": "1z37KiPRK5QL"
      },
      "outputs": [],
      "source": [
        "#split training set into train and validation to train and to evaluate the model\n",
        "x_pos_train, x_pos_val, y_pos_train, y_pos_val = train_test_split(data_concat, new_labels, test_size = 0.1, random_state = 43)\n",
        "#Define dataset from data for the input of the model\n",
        "dataset_pos_train = create_dataset(x_pos_train, y_pos_train, BATCH)\n",
        "dataset_pos_val = create_dataset(x_pos_val, y_pos_val, BATCH)\n",
        "dataset_pos_dev = create_dataset(data_concat_dev, new_labels_dev, BATCH) "
      ]
    },
    {
      "cell_type": "code",
      "execution_count": null,
      "metadata": {
        "id": "OTu7-EIhLUPK"
      },
      "outputs": [],
      "source": [
        "#Model Instance\n",
        "model = NERClassifier(400, 100, N_CLASSES)\n",
        "optimizer = torch.optim.Adam(model.parameters())"
      ]
    },
    {
      "cell_type": "code",
      "execution_count": null,
      "metadata": {
        "id": "ldG5gSJaLcv2"
      },
      "outputs": [],
      "source": [
        "loss_train, loss_val = train(model, optimizer, dataset_pos_train, dataset_pos_val, LOSS, 25)"
      ]
    },
    {
      "cell_type": "code",
      "execution_count": null,
      "metadata": {
        "id": "vq_9dW06jUXr"
      },
      "outputs": [],
      "source": [
        "#Compute prediction to test de model\n",
        "true, pred = test(model, dataset_pos_dev)"
      ]
    },
    {
      "cell_type": "markdown",
      "metadata": {
        "id": "bNaQOi7hY2h-"
      },
      "source": [
        "##Graphs"
      ]
    },
    {
      "cell_type": "code",
      "execution_count": null,
      "metadata": {
        "id": "rCpRo1WSXf3s",
        "colab": {
          "base_uri": "https://localhost:8080/",
          "height": 1000
        },
        "outputId": "d45710f1-9922-4deb-e8d7-163253b5417c"
      },
      "outputs": [
        {
          "output_type": "stream",
          "name": "stdout",
          "text": [
            "Classification Report\n",
            "              precision    recall  f1-score   support\n",
            "\n",
            "      B-CORP       0.20      0.07      0.10       133\n",
            "        B-CW       0.48      0.08      0.14       170\n",
            "       B-GRP       0.37      0.31      0.33       190\n",
            "       B-LOC       0.45      0.42      0.43       243\n",
            "       B-PER       0.41      0.58      0.48       300\n",
            "      B-PROD       1.00      0.01      0.01       149\n",
            "      I-CORP       0.17      0.08      0.10       119\n",
            "        I-CW       0.63      0.15      0.24       261\n",
            "       I-GRP       0.41      0.42      0.41       377\n",
            "       I-LOC       0.43      0.18      0.25       153\n",
            "       I-PER       0.41      0.63      0.49       329\n",
            "      I-PROD       0.20      0.02      0.04        87\n",
            "           O       0.91      0.95      0.93     10240\n",
            "\n",
            "    accuracy                           0.83     12751\n",
            "   macro avg       0.47      0.30      0.31     12751\n",
            "weighted avg       0.81      0.83      0.81     12751\n",
            "\n",
            "Confusion Matrix\n",
            "F1 score: 0.17079131304468176\n",
            "\n",
            "              precision    recall  f1-score   support\n",
            "\n",
            "        CORP       0.02      0.02      0.02       133\n",
            "          CW       0.20      0.06      0.09       170\n",
            "         GRP       0.15      0.22      0.18       190\n",
            "         LOC       0.34      0.35      0.35       243\n",
            "         PER       0.28      0.50      0.36       300\n",
            "        PROD       0.18      0.01      0.02       149\n",
            "\n",
            "   micro avg       0.24      0.25      0.24      1185\n",
            "   macro avg       0.20      0.19      0.17      1185\n",
            "weighted avg       0.22      0.25      0.21      1185\n",
            "\n"
          ]
        },
        {
          "output_type": "display_data",
          "data": {
            "text/plain": [
              "<Figure size 648x648 with 2 Axes>"
            ],
            "image/png": "[encoded data removed]"
          },
          "metadata": {
            "needs_background": "light"
          }
        }
      ],
      "source": [
        "#Plot Loss curves\n",
        "plot_train_trend(loss_train, loss_val,\"Loss\")\n",
        "\n",
        "#Classification report using sklearn\n",
        "classes = list(classes_dict.keys())\n",
        "classes.remove(PAD)\n",
        "plot_classification_report(np.array(true), np.array(pred), classes)\n",
        "\n",
        "#Confusion matrix\n",
        "plot_confusion_matrix(true,pred,classes)\n",
        "\n",
        "#F1 and classification report using seqeval\n",
        "\n",
        "lenghts = compute_lengths(original_labels_dev)\n",
        "''' Transorm 'true' and 'prediction', which are List[int],\n",
        "    in List[List[str]], needed for seqeval evaluation'''\n",
        "Y_true, Y_pred = data_for_evaluation(true, pred, lenghts, classes_dict_inv)\n",
        "print(\"F1 score: \"+str(seqeval_f1_score(Y_true, Y_pred, average=\"macro\"))+\"\\n\")\n",
        "print(seqeval_classification(Y_true, Y_pred))"
      ]
    },
    {
      "cell_type": "markdown",
      "metadata": {
        "id": "ZSK7jyOyBfdI"
      },
      "source": [
        "#CRF"
      ]
    },
    {
      "cell_type": "code",
      "execution_count": null,
      "metadata": {
        "colab": {
          "base_uri": "https://localhost:8080/"
        },
        "id": "bhHInHn0B7Ho",
        "outputId": "9e1d5f73-f8b0-433e-ec6e-e6684984f628"
      },
      "outputs": [
        {
          "output_type": "stream",
          "name": "stdout",
          "text": [
            "Collecting pytorch-crf\n",
            "  Downloading pytorch_crf-0.7.2-py3-none-any.whl (9.5 kB)\n",
            "Installing collected packages: pytorch-crf\n",
            "Successfully installed pytorch-crf-0.7.2\n"
          ]
        }
      ],
      "source": [
        "!pip install pytorch-crf\n",
        "import torch\n",
        "from torchcrf import CRF"
      ]
    },
    {
      "cell_type": "markdown",
      "source": [
        "##Model, training and test functions"
      ],
      "metadata": {
        "id": "EZvUS979s30i"
      }
    },
    {
      "cell_type": "code",
      "execution_count": null,
      "metadata": {
        "id": "DKin8JKdBvs9"
      },
      "outputs": [],
      "source": [
        "#Definition of the model\n",
        "class NERClassifierCRF(torch.nn.Module):\n",
        "\n",
        "    def __init__(self, classes, embedding_dim, n_hidden, training = False):\n",
        "        super(NERClassifierCRF, self).__init__()\n",
        "        self.lstm = nn.LSTM(embedding_dim, n_hidden, bidirectional = True, num_layers = 2, dropout=0.3, batch_first = True)\n",
        "        \n",
        "        self.hidden1 = torch.nn.Linear(2*n_hidden,100)\n",
        "        self.hidden2 = torch.nn.Linear(100,80)\n",
        "        self.hidden3 = torch.nn.Linear(80,50)\n",
        "        self.hidden4 = torch.nn.Linear(50,classes+1)\n",
        "        self.crf = CRF(classes+1, batch_first = True)\n",
        "\n",
        "\n",
        "    def forward(self, sentence, tags = None, masks=None):\n",
        "\n",
        "        out, _ = self.lstm(sentence)\n",
        "\n",
        "\n",
        "        out = self.hidden1(out)\n",
        "        out = torch.relu(out)\n",
        "        out = nn.Dropout(0.3)(out)\n",
        "        out = self.hidden2(out)\n",
        "        out = torch.relu(out)\n",
        "        out = nn.Dropout(0.4)(out)\n",
        "        out = self.hidden3(out)\n",
        "        out = torch.relu(out)\n",
        "        out = nn.Dropout(0.3)(out)\n",
        "        out = self.hidden4(out)\n",
        "\n",
        "        out = F.log_softmax(out, dim=2)\n",
        "\n",
        "        #print(out.shape)\n",
        "        #print(tags.shape)\n",
        "\n",
        "        if tags is not None:\n",
        "          loss = self.crf(out, tags, mask=masks, reduction=\"mean\")\n",
        "          #print(loss)\n",
        "          return -loss\n",
        "        else:\n",
        "          out = self.crf.decode(out)\n",
        "          return out"
      ]
    },
    {
      "cell_type": "code",
      "execution_count": null,
      "metadata": {
        "id": "YYNxpP0DFOhN"
      },
      "outputs": [],
      "source": [
        "def train3(model, optimizer, data_train, data_val, loss_f, epochs: int = 10):\n",
        "\n",
        "    tot_loss_train = []\n",
        "    tot_loss_val = []\n",
        "    \n",
        "    for epoch in range(epochs):\n",
        "        \n",
        "        print(\"\\nepoch: \"+str(epoch+1)+\"/\"+str(epochs))\n",
        "\n",
        "        loss_train = []  \n",
        "        for x, y in data_train:\n",
        "\n",
        "            y2 = torch.argmax(y, -1)\n",
        "\n",
        "            masks = []\n",
        "            for yi in y2:\n",
        "              mask = []\n",
        "              for i in yi:\n",
        "                i = i.item()\n",
        "                if i!=13:\n",
        "                  mask.append(1)\n",
        "                else:\n",
        "                  mask.append(0)\n",
        "              masks.append(mask)\n",
        "\n",
        "            masks = torch.tensor(masks, dtype=torch.bool)\n",
        "\n",
        "            optimizer.zero_grad()\n",
        "            loss = model(x.type(torch.float), y2, masks)\n",
        "            loss_train.append(loss.item())\n",
        "            loss.backward()\n",
        "            optimizer.step()\n",
        "\n",
        "        lt = sum(loss_train)/len(loss_train)\n",
        "\n",
        "        tot_loss_train.append(lt)\n",
        "        print(\"Train Loss: \"+str(lt))\n",
        "\n",
        "        loss_val = []\n",
        "        for x, y in data_val:\n",
        "\n",
        "            y = torch.argmax(y, -1)\n",
        "\n",
        "            out = model(x.type(torch.float))\n",
        "            out = torch.tensor(out, dtype=torch.float)\n",
        "            loss = loss_f(out, y)\n",
        "            loss_val.append(loss)\n",
        "\n",
        "        lv = sum(loss_val)/len(loss_val)\n",
        "\n",
        "        tot_loss_val.append(lv)\n",
        "        print(\"Validation Loss: \"+str(lv)+\"\\n\")\n",
        "\n",
        "    return tot_loss_train, tot_loss_val"
      ]
    },
    {
      "cell_type": "code",
      "execution_count": null,
      "metadata": {
        "id": "VYlQtjWdux9r"
      },
      "outputs": [],
      "source": [
        "def test3(model: nn.Module, dataloader: DataLoader):\n",
        "  num_true = 0\n",
        "  pred = []\n",
        "  true = []\n",
        "  tot=0\n",
        "\n",
        "  for x, y in dataloader:\n",
        "\n",
        "      with torch.no_grad():\n",
        "        out = model(x.type(torch.float))\n",
        "\n",
        "      for elem_pred,elem_true in zip(out, y):\n",
        "\n",
        "          elem_true = torch.argmax(elem_true, -1)\n",
        "\n",
        "          for e_pred,e_true in zip(elem_pred,elem_true):\n",
        "\n",
        "            e_true = e_true.item()\n",
        "\n",
        "            if e_pred == e_true: \n",
        "              num_true += 1\n",
        "            if e_true!=13:\n",
        "              tot+=1\n",
        "              true.append(e_true)\n",
        "              pred.append(e_pred)\n",
        "\n",
        "  print(num_true,\"/\",tot)\n",
        "  print(f'# accuracy: {(num_true / tot):.2f}')\n",
        "  return true, pred"
      ]
    },
    {
      "cell_type": "code",
      "execution_count": null,
      "metadata": {
        "id": "mccNYeT1MztE"
      },
      "outputs": [],
      "source": [
        "#A loss function for validation data\n",
        "def loss_crf_function(pred, y):\n",
        "  count = 0\n",
        "  for pi,yi in zip(pred,y):\n",
        "    #print(i)\n",
        "    for i,j in zip(pi,yi):\n",
        "      if i!=j:\n",
        "        count+=1\n",
        "  return count/len(pred)"
      ]
    },
    {
      "cell_type": "markdown",
      "source": [
        "##Read data, training and test"
      ],
      "metadata": {
        "id": "vslTphv6sp_T"
      }
    },
    {
      "cell_type": "code",
      "source": [
        "#ONLY TO LOAD A SAVED MODEL\n",
        "model = torch.load(\"/content/drive/MyDrive/modelCRF.pt\")"
      ],
      "metadata": {
        "id": "GHlJZ5yEWw4w"
      },
      "execution_count": null,
      "outputs": []
    },
    {
      "cell_type": "code",
      "execution_count": null,
      "metadata": {
        "id": "uNMpvB9uCXsS"
      },
      "outputs": [],
      "source": [
        "#Model Instance\n",
        "model = NERClassifierCRF(N_CLASSES, N_FEATURES, N_HIDDEN)\n",
        "optimizer = torch.optim.Adam(model.parameters())"
      ]
    },
    {
      "cell_type": "code",
      "execution_count": null,
      "metadata": {
        "id": "-Ku0PWK9HP8a"
      },
      "outputs": [],
      "source": [
        "#split training set into train and validation to train and to evaluate the model\n",
        "x_train, x_val, y_train, y_val = train_test_split(new_data, new_labels, test_size = 0.1, random_state = 43)\n",
        "#Define dataset from data for the input of the model\n",
        "dataset_train_crf = create_dataset(x_train, y_train, BATCH)\n",
        "dataset_val_crf = create_dataset(x_val, y_val, BATCH)"
      ]
    },
    {
      "cell_type": "code",
      "execution_count": null,
      "metadata": {
        "id": "BeKbiIipHfqa",
        "colab": {
          "base_uri": "https://localhost:8080/"
        },
        "outputId": "bbbccbdf-09eb-46a7-cd83-5b74c2047786"
      },
      "outputs": [
        {
          "output_type": "stream",
          "name": "stdout",
          "text": [
            "\n",
            "epoch: 1/35\n",
            "Train Loss: 22.972698248349705\n"
          ]
        },
        {
          "output_type": "stream",
          "name": "stderr",
          "text": [
            "/usr/local/lib/python3.7/dist-packages/torchcrf/__init__.py:305: UserWarning: where received a uint8 condition tensor. This behavior is deprecated and will be removed in a future version of PyTorch. Use a boolean condition instead. (Triggered internally at  ../aten/src/ATen/native/TensorCompare.cpp:328.)\n",
            "  score = torch.where(mask[i].unsqueeze(1), next_score, score)\n"
          ]
        },
        {
          "output_type": "stream",
          "name": "stdout",
          "text": [
            "Validation Loss: 27.52749341475096\n",
            "\n",
            "\n",
            "epoch: 2/35\n",
            "Train Loss: 14.02434257360605\n",
            "Validation Loss: 27.52749341475096\n",
            "\n",
            "\n",
            "epoch: 3/35\n",
            "Train Loss: 11.533047364308285\n",
            "Validation Loss: 27.52749341475096\n",
            "\n",
            "\n",
            "epoch: 4/35\n",
            "Train Loss: 10.192504699413593\n",
            "Validation Loss: 27.14786877394636\n",
            "\n",
            "\n",
            "epoch: 5/35\n",
            "Train Loss: 8.921221962341896\n",
            "Validation Loss: 26.81868115421456\n",
            "\n",
            "\n",
            "epoch: 6/35\n",
            "Train Loss: 7.586623998788687\n",
            "Validation Loss: 26.508149245689655\n",
            "\n",
            "\n",
            "epoch: 7/35\n",
            "Train Loss: 6.433553640659039\n",
            "Validation Loss: 26.410986889367816\n",
            "\n",
            "\n",
            "epoch: 8/35\n",
            "Train Loss: 5.678015461334815\n",
            "Validation Loss: 26.157290170019156\n",
            "\n",
            "\n",
            "epoch: 9/35\n",
            "Train Loss: 5.058599843428685\n",
            "Validation Loss: 26.054650083812263\n",
            "\n",
            "\n",
            "epoch: 10/35\n",
            "Train Loss: 4.555354214631594\n",
            "Validation Loss: 25.942394037356323\n",
            "\n",
            "\n",
            "epoch: 11/35\n",
            "Train Loss: 4.161712884902954\n",
            "Validation Loss: 25.901296096743295\n",
            "\n",
            "\n",
            "epoch: 12/35\n",
            "Train Loss: 3.7180268581096945\n",
            "Validation Loss: 25.776587943007666\n",
            "\n",
            "\n",
            "epoch: 13/35\n",
            "Train Loss: 3.4153719200537753\n",
            "Validation Loss: 25.697460189176244\n",
            "\n",
            "\n",
            "epoch: 14/35\n",
            "Train Loss: 3.0719112020272474\n",
            "Validation Loss: 25.760581297892724\n",
            "\n",
            "\n",
            "epoch: 15/35\n",
            "Train Loss: 2.8603382316919475\n",
            "Validation Loss: 25.846982758620687\n",
            "\n",
            "\n",
            "epoch: 16/35\n",
            "Train Loss: 2.7164602210888495\n",
            "Validation Loss: 25.639712045019156\n",
            "\n",
            "\n",
            "epoch: 17/35\n",
            "Train Loss: 2.418822004244878\n",
            "Validation Loss: 25.668088481800766\n",
            "\n",
            "\n",
            "epoch: 18/35\n",
            "Train Loss: 2.212467911151739\n",
            "Validation Loss: 25.686123084291186\n",
            "\n",
            "\n",
            "epoch: 19/35\n",
            "Train Loss: 2.037759153888776\n",
            "Validation Loss: 25.723172593390803\n",
            "\n",
            "\n",
            "epoch: 20/35\n",
            "Train Loss: 1.9201934062517607\n",
            "Validation Loss: 25.733544360632184\n",
            "\n",
            "\n",
            "epoch: 21/35\n",
            "Train Loss: 1.8604192458666289\n",
            "Validation Loss: 25.596818127394638\n",
            "\n",
            "\n",
            "epoch: 22/35\n",
            "Train Loss: 1.8268921306500068\n",
            "Validation Loss: 25.59226083572797\n",
            "\n",
            "\n",
            "epoch: 23/35\n",
            "Train Loss: 1.6843798550275655\n",
            "Validation Loss: 25.585249042145595\n",
            "\n",
            "\n",
            "epoch: 24/35\n",
            "Train Loss: 1.5895827246400027\n",
            "Validation Loss: 25.58781579262452\n",
            "\n",
            "\n",
            "epoch: 25/35\n",
            "Train Loss: 1.3416399640532641\n",
            "Validation Loss: 25.551275143678158\n",
            "\n",
            "\n",
            "epoch: 26/35\n",
            "Train Loss: 1.258065588772297\n",
            "Validation Loss: 25.54950909961686\n",
            "\n",
            "\n",
            "epoch: 27/35\n",
            "Train Loss: 1.1523367774028044\n",
            "Validation Loss: 25.576171875\n",
            "\n",
            "\n",
            "epoch: 28/35\n",
            "Train Loss: 1.0589393589359064\n",
            "Validation Loss: 25.520751017720304\n",
            "\n",
            "\n",
            "epoch: 29/35\n",
            "Train Loss: 1.050515384055101\n",
            "Validation Loss: 25.57046216475096\n",
            "\n",
            "\n",
            "epoch: 30/35\n",
            "Train Loss: 0.9776699027189841\n",
            "Validation Loss: 25.530980603448274\n",
            "\n",
            "\n",
            "epoch: 31/35\n",
            "Train Loss: 0.9322662324859545\n",
            "Validation Loss: 25.52155920737548\n",
            "\n",
            "\n",
            "epoch: 32/35\n",
            "Train Loss: 0.8615038414987234\n",
            "Validation Loss: 25.519568666187737\n",
            "\n",
            "\n",
            "epoch: 33/35\n",
            "Train Loss: 0.843700251613672\n",
            "Validation Loss: 25.49022689176245\n",
            "\n",
            "\n",
            "epoch: 34/35\n",
            "Train Loss: 0.8482787654950068\n",
            "Validation Loss: 25.48892480842912\n",
            "\n",
            "\n",
            "epoch: 35/35\n",
            "Train Loss: 0.8381041468909154\n",
            "Validation Loss: 25.527261434386972\n",
            "\n"
          ]
        }
      ],
      "source": [
        "LOSS = loss_crf_function\n",
        "loss_train, loss_val = train3(model, optimizer, dataset_train_crf, dataset_val_crf, LOSS, EPOCHS)"
      ]
    },
    {
      "cell_type": "code",
      "source": [
        "loss_train2, loss_val2 = train3(model, optimizer, dataset_train_crf, dataset_val_crf, LOSS, EPOCHS)"
      ],
      "metadata": {
        "id": "bGR6laGyQyH6"
      },
      "execution_count": null,
      "outputs": []
    },
    {
      "cell_type": "code",
      "source": [
        "#TO SAVE A MODEL\n",
        "pth_model = \"/content/drive/MyDrive/modelCRF.pt\"\n",
        "torch.save(model, pth_model, pickle_protocol=4)"
      ],
      "metadata": {
        "id": "V-zQ2Xk2Hj6a"
      },
      "execution_count": null,
      "outputs": []
    },
    {
      "cell_type": "code",
      "execution_count": null,
      "metadata": {
        "id": "ZGumx0kNvtEt"
      },
      "outputs": [],
      "source": [
        "dataset_dev_crf = create_dataset(new_data_dev, new_labels_dev, BATCH)"
      ]
    },
    {
      "cell_type": "code",
      "execution_count": null,
      "metadata": {
        "colab": {
          "base_uri": "https://localhost:8080/"
        },
        "id": "RWBF5JS9vylC",
        "outputId": "3525f0be-34e0-4c47-f836-af770ab5c55f"
      },
      "outputs": [
        {
          "output_type": "stream",
          "name": "stdout",
          "text": [
            "11782 / 12751\n",
            "# accuracy: 0.92\n"
          ]
        }
      ],
      "source": [
        "true, pred = test3(model, dataset_dev_crf)"
      ]
    },
    {
      "cell_type": "markdown",
      "source": [
        "##Graphs"
      ],
      "metadata": {
        "id": "Zj7KLnylr5Bz"
      }
    },
    {
      "cell_type": "code",
      "execution_count": null,
      "metadata": {
        "colab": {
          "base_uri": "https://localhost:8080/",
          "height": 1000
        },
        "id": "8khyIsZ4xc-Z",
        "outputId": "ce6df201-dbb9-4d98-837c-42b758ef46a8"
      },
      "outputs": [
        {
          "output_type": "stream",
          "name": "stdout",
          "text": [
            "Classification Report\n",
            "              precision    recall  f1-score   support\n",
            "\n",
            "      B-CORP       0.69      0.56      0.62       133\n",
            "        B-CW       0.56      0.46      0.50       170\n",
            "       B-GRP       0.79      0.68      0.73       190\n",
            "       B-LOC       0.76      0.83      0.79       243\n",
            "       B-PER       0.87      0.86      0.87       300\n",
            "      B-PROD       0.54      0.46      0.49       149\n",
            "      I-CORP       0.71      0.56      0.63       119\n",
            "        I-CW       0.75      0.56      0.64       261\n",
            "       I-GRP       0.85      0.73      0.79       377\n",
            "       I-LOC       0.75      0.75      0.75       153\n",
            "       I-PER       0.88      0.88      0.88       329\n",
            "      I-PROD       0.64      0.53      0.58        87\n",
            "           O       0.96      0.98      0.97     10240\n",
            "\n",
            "    accuracy                           0.92     12751\n",
            "   macro avg       0.75      0.68      0.71     12751\n",
            "weighted avg       0.92      0.92      0.92     12751\n",
            "\n",
            "Confusion Matrix\n",
            "F1 score: 0.6109026979185236\n",
            "\n",
            "              precision    recall  f1-score   support\n",
            "\n",
            "        CORP       0.57      0.48      0.52       133\n",
            "          CW       0.49      0.41      0.45       170\n",
            "         GRP       0.70      0.63      0.66       190\n",
            "         LOC       0.72      0.79      0.76       243\n",
            "         PER       0.84      0.85      0.84       300\n",
            "        PROD       0.48      0.41      0.44       149\n",
            "\n",
            "   micro avg       0.68      0.64      0.66      1185\n",
            "   macro avg       0.63      0.59      0.61      1185\n",
            "weighted avg       0.67      0.64      0.65      1185\n",
            "\n"
          ]
        },
        {
          "output_type": "display_data",
          "data": {
            "text/plain": [
              "<Figure size 432x288 with 1 Axes>"
            ],
            "image/png": "[encoded data removed]"
          },
          "metadata": {
            "needs_background": "light"
          }
        },
        {
          "output_type": "display_data",
          "data": {
            "text/plain": [
              "<Figure size 648x648 with 2 Axes>"
            ],
            "image/png": "[encoded data removed]"
          },
          "metadata": {
            "needs_background": "light"
          }
        }
      ],
      "source": [
        "#Plot Loss curves\n",
        "plot_train_trend(loss_train, loss_val,\"Loss\")\n",
        "\n",
        "#Classification report using sklearn\n",
        "classes = list(classes_dict.keys())\n",
        "classes.remove(PAD)\n",
        "plot_classification_report(np.array(true), np.array(pred), classes)\n",
        "\n",
        "#Confusion matrix\n",
        "plot_confusion_matrix(true,pred,classes)\n",
        "\n",
        "#F1 and classification report using seqeval\n",
        "\n",
        "lenghts = compute_lengths(original_labels_dev)\n",
        "''' Transorm 'true' and 'prediction', which are List[int],\n",
        "    in List[List[str]], needed for seqeval evaluation'''\n",
        "Y_true, Y_pred = data_for_evaluation(true, pred, lenghts, classes_dict_inv)\n",
        "print(\"F1 score: \"+str(seqeval_f1_score(Y_true, Y_pred, average=\"macro\"))+\"\\n\")\n",
        "print(seqeval_classification(Y_true, Y_pred))"
      ]
    }
  ],
  "metadata": {
    "accelerator": "GPU",
    "colab": {
      "collapsed_sections": [
        "JrEqKJuZ19rP",
        "zCFU-gCbaIQz",
        "W_cRMnl-Z0I_",
        "Pi-81eS0V3gl",
        "3-m0r4PsZSl0",
        "vq1E2PU5K56D",
        "QLZjSFy1V9nV",
        "L_UHXr2L0d51",
        "lkbbc4bkzxie",
        "KOpOQspvYrzZ",
        "bNaQOi7hY2h-",
        "ZSK7jyOyBfdI",
        "vslTphv6sp_T",
        "Zj7KLnylr5Bz"
      ],
      "name": "nlp_hw1_2022.ipynb",
      "provenance": []
    },
    "kernelspec": {
      "display_name": "Python 3",
      "name": "python3"
    },
    "language_info": {
      "name": "python"
    }
  },
  "nbformat": 4,
  "nbformat_minor": 0
}